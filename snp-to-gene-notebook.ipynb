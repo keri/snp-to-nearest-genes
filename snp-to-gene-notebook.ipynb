{
 "cells": [
  {
   "cell_type": "code",
   "execution_count": 2,
   "metadata": {},
   "outputs": [],
   "source": [
    "# load python modules\n",
    "from Bio import Entrez\n",
    "from collections import OrderedDict\n",
    "import pandas as pd"
   ]
  },
  {
   "cell_type": "code",
   "execution_count": 3,
   "metadata": {},
   "outputs": [],
   "source": [
    "pd.set_option('display.max_columns',None)\n",
    "pd.set_option('display.max_rows', None)"
   ]
  },
  {
   "cell_type": "code",
   "execution_count": 4,
   "metadata": {},
   "outputs": [],
   "source": [
    "#set your file pathway for saving both output files\n",
    "GeneOutputFile = './nearestGenes.csv' #this is default. Change to something else if you like\n",
    "SNPInfoOutputFile = './SNPInfo.csv' #default or leave blank if you don't want to store this info\n"
   ]
  },
  {
   "cell_type": "code",
   "execution_count": 5,
   "metadata": {},
   "outputs": [],
   "source": [
    "# initialize some default parameters\n",
    "Entrez.email = 'your@email.com'  # provide your email address\n",
    "db = 'snp'                       # set search to snp database\n",
    "paramEutils = { 'usehistory':'Y',  \n",
    "              \"retmode\":'xml',\"retmax\": 10} #Use Entrez search history to cache results"
   ]
  },
  {
   "cell_type": "code",
   "execution_count": 6,
   "metadata": {},
   "outputs": [],
   "source": [
    "def get_idList(snp_id):\n",
    "    #data must be in xml format\n",
    "    eSearch = Entrez.esearch(db=db, term=snp_id, **paramEutils)\n",
    "    res = Entrez.read(eSearch)\n",
    "    idList = res['IdList'] #returns a list of id's to create summaries for\n",
    "    return(idList)"
   ]
  },
  {
   "cell_type": "code",
   "execution_count": 7,
   "metadata": {},
   "outputs": [],
   "source": [
    " def parse_return_xml(dict_obj):\n",
    "    '''Returns a dictionary of keys from entrez summary result using 'snp' database\n",
    "    Entrez.esummary(db=db, id='rs####', retmax=retmax, retmode=retmode)'''\n",
    "    \n",
    "    record = {}\n",
    "    # info to collect is three layers in\n",
    "    first_order = dict_obj['DocumentSummarySet']\n",
    "    second_order = first_order['DocumentSummary'] \n",
    "    \n",
    "    #return the dictionary of summary\n",
    "    record = second_order[0]\n",
    "    \n",
    "    return(record)"
   ]
  },
  {
   "cell_type": "code",
   "execution_count": 21,
   "metadata": {},
   "outputs": [],
   "source": [
    "def get_closest_genes(list_of_snps):\n",
    "    '''Calls ncbi snp database with an rs## snp id from a input list, and returns 2 dataframes\n",
    "    with a row for each snp id: snp_records df contains comprehensive snp data and genes df \n",
    "    contains info for genes associated with each snp\n",
    "    \n",
    "    snp_record df schema: \n",
    "    ACC : string                                \n",
    "    ALLELE: Bool \n",
    "    ALLELE_ORIGIN: string : rs###, however most of the time is blank \n",
    "    CHR : string chromosome snp found on \n",
    "    CHRPOS : string chr:bp\n",
    "    CHRPOS_PREV_ASSM : string chr:bp from previous assembly\n",
    "    CHRPOS_SORT : string chromosome position but with 000 in front\n",
    "    CITED_SORT : string string\n",
    "    CLINICAL_SIGNIFICANCE : string\n",
    "    CLINICAL_SORT : string \n",
    "    CREATEDATE : data record of snp was created\n",
    "    DOCSUM : string summary of all columns\n",
    "    FXN_CLASS : string comma separate (i.e. 'intron_variant,genic_downstream_transcript_variant')\n",
    "    GENES : list of dictionaries of genes (i.e. [{'NAME': 'LRRC8D', 'GENE_ID': '55144'}])\n",
    "    GLOBAL_MAFS : list of dictionary (i.e. {'STUDY': '1000Genomes', 'FREQ': 'C=0.049521/.....)\n",
    "    GLOBAL_POPULATION : string\n",
    "    GLOBAL_SAMPLESIZE : string\n",
    "    HANDLE : string reported biobanks with snp? (i.e. 1000GENOMES,EVA_UK10K_TWINSUK,....)\n",
    "    IDList : list of uid's generated from first get_idList(snp)\n",
    "    MERGED_SORT : string\n",
    "    ORIG_BUILD : string\n",
    "    SNP_CLASS : string (i.e. 'snv')\n",
    "    SNP_ID : string\n",
    "    SNP_ID_SORT : string\n",
    "    SPDI : string (i.e. 'NC_000005.10:95305173:T:C')\n",
    "    SS : string (i.e. '10263196,82343251,82652005,112205736,165508732')\n",
    "    SUSPECTED : string\n",
    "    TAX_ID : string\n",
    "    TEXT : string (i.e. 'MergedRs=6896334')\n",
    "    UPDATEDATE : Date\n",
    "    UPD_BUILD : string\n",
    "    VALIDATED : string (i.e. 'by-frequency,by-alfa,by-cluster')\n",
    "    snpID : string rs###\n",
    "    \n",
    "    gene_records schema:\n",
    "    GENE_ID : int ID#\n",
    "    NAME : string common name \n",
    "    ACC : string NC_000... \n",
    "    snpID : string rs###\n",
    "    '''\n",
    "    #initialize empty dataframe with be adding onto at each iteration\n",
    "    snp_records = pd.DataFrame()\n",
    "    genes = pd.DataFrame()\n",
    "    \n",
    "    #iterated over each snp to create row for dataframe\n",
    "    for snp in list_of_snps:\n",
    "        #every snp may have several ids associated with it\n",
    "        idList = get_idList(snp)\n",
    "        if len(idList) > 0: # need an id to call summary, in rare instances snps don't have a uid\n",
    "            eSummary = Entrez.esummary(db=db, id=idList[0], **paramEutils) #only need one uid so get the first occurence\n",
    "            summary_dict = Entrez.read(eSummary)\n",
    "            record = parse_return_xml(summary_dict)\n",
    "            record['IDList'] = idList\n",
    "            #Create new dataframe for one record with index as snp\n",
    "            new_record = pd.DataFrame()\n",
    "            new_record = new_record.append(record, ignore_index=True)\n",
    "            new_record.index = [snp]\n",
    "            #append to existing dataframe with all snps\n",
    "            snp_records = snp_records.append(new_record)\n",
    "            if len(record['GENES']) > 0: #parse genes out into separate dataframe\n",
    "                new_gene = pd.DataFrame(data=record['GENES'],index=range(len(record['GENES'])))\n",
    "                new_gene['snpId'] = snp\n",
    "                genes = genes.append(new_gene)\n",
    "                \n",
    "    snp_records['snpId'] = snp_records.index\n",
    "                \n",
    "    return(snp_records, genes)\n",
    "        "
   ]
  },
  {
   "cell_type": "code",
   "execution_count": 10,
   "metadata": {},
   "outputs": [
    {
     "data": {
      "text/html": [
       "<div>\n",
       "<style scoped>\n",
       "    .dataframe tbody tr th:only-of-type {\n",
       "        vertical-align: middle;\n",
       "    }\n",
       "\n",
       "    .dataframe tbody tr th {\n",
       "        vertical-align: top;\n",
       "    }\n",
       "\n",
       "    .dataframe thead th {\n",
       "        text-align: right;\n",
       "    }\n",
       "</style>\n",
       "<table border=\"1\" class=\"dataframe\">\n",
       "  <thead>\n",
       "    <tr style=\"text-align: right;\">\n",
       "      <th></th>\n",
       "      <th>Unnamed: 0</th>\n",
       "      <th>first</th>\n",
       "      <th>second</th>\n",
       "      <th>chi_squared</th>\n",
       "      <th>p-value</th>\n",
       "    </tr>\n",
       "  </thead>\n",
       "  <tbody>\n",
       "    <tr>\n",
       "      <th>0</th>\n",
       "      <td>0</td>\n",
       "      <td>rs6896334</td>\n",
       "      <td>rs16957704</td>\n",
       "      <td>166.321</td>\n",
       "      <td>0.001</td>\n",
       "    </tr>\n",
       "    <tr>\n",
       "      <th>1</th>\n",
       "      <td>1</td>\n",
       "      <td>rs187652</td>\n",
       "      <td>rs16957704</td>\n",
       "      <td>148.227</td>\n",
       "      <td>0.001</td>\n",
       "    </tr>\n",
       "    <tr>\n",
       "      <th>2</th>\n",
       "      <td>2</td>\n",
       "      <td>rs154058</td>\n",
       "      <td>rs16957704</td>\n",
       "      <td>144.19799999999995</td>\n",
       "      <td>0.001</td>\n",
       "    </tr>\n",
       "    <tr>\n",
       "      <th>3</th>\n",
       "      <td>3</td>\n",
       "      <td>rs17498135</td>\n",
       "      <td>rs6430527</td>\n",
       "      <td>137.342</td>\n",
       "      <td>0.001</td>\n",
       "    </tr>\n",
       "    <tr>\n",
       "      <th>4</th>\n",
       "      <td>4</td>\n",
       "      <td>rs640333</td>\n",
       "      <td>rs3011830</td>\n",
       "      <td>136.56</td>\n",
       "      <td>0.001</td>\n",
       "    </tr>\n",
       "  </tbody>\n",
       "</table>\n",
       "</div>"
      ],
      "text/plain": [
       "  Unnamed: 0       first      second         chi_squared p-value\n",
       "0          0   rs6896334  rs16957704             166.321   0.001\n",
       "1          1    rs187652  rs16957704             148.227   0.001\n",
       "2          2    rs154058  rs16957704  144.19799999999995   0.001\n",
       "3          3  rs17498135   rs6430527             137.342   0.001\n",
       "4          4    rs640333   rs3011830              136.56   0.001"
      ]
     },
     "execution_count": 10,
     "metadata": {},
     "output_type": "execute_result"
    }
   ],
   "source": [
    "snp_df = pd.read_csv('pathway/to/file/with/your/snp/data')\n",
    "\n",
    "snp_df.head() #this is an example of the file I had from epistatic analysis using mbmdr"
   ]
  },
  {
   "cell_type": "code",
   "execution_count": 19,
   "metadata": {},
   "outputs": [],
   "source": [
    "#get a list of snps from a file and read into a df above\n",
    "snp_list = snp_df['column with your snps'].values #this is the list you will use for the function\n",
    "\n",
    "#or create a list manually if you don't have a file with snps\n",
    "#snp_list = [rs1, rs2, etc]"
   ]
  },
  {
   "cell_type": "markdown",
   "metadata": {},
   "source": [
    "# Get gene and snp information "
   ]
  },
  {
   "cell_type": "code",
   "execution_count": 24,
   "metadata": {},
   "outputs": [
    {
     "name": "stdout",
     "output_type": "stream",
     "text": [
      "snp =  rs640333\n",
      "id list =  ['60232172', '57110850', '640333']\n",
      "snp =  rs4727608\n",
      "id list =  ['61297825', '61123651', '56486996', '10346690', '4727608']\n",
      "snp =  rs12490758\n",
      "id list =  ['61190134', '12490758']\n",
      "snp =  rs934383\n",
      "id list =  ['59965562', '934383']\n",
      "snp =  rs7826843\n",
      "id list =  ['58899764', '56626120', '7826843']\n"
     ]
    }
   ],
   "source": [
    "#I suggest trying it with only 10 to see if it works (i.e. snp_list[:10])\n",
    "SNPInfo, GeneInfo = get_closest_genes(snp_list)\n"
   ]
  },
  {
   "cell_type": "code",
   "execution_count": 25,
   "metadata": {},
   "outputs": [
    {
     "name": "stdout",
     "output_type": "stream",
     "text": [
      "(3, 3)\n",
      "(5, 33)\n"
     ]
    }
   ],
   "source": [
    "#Look at shape of each to ensure all of the snps ran. I ran into problems using > 100 snps at a time.\n",
    "print(GeneInfo.shape) #gene df will be smaller as not all snps with have genes associated with it\n",
    "print(SNPInfo.shape) "
   ]
  },
  {
   "cell_type": "markdown",
   "metadata": {},
   "source": [
    "# Save dataframes to file"
   ]
  },
  {
   "cell_type": "code",
   "execution_count": 26,
   "metadata": {},
   "outputs": [],
   "source": [
    "GeneInfo.to_csv(GeneOutputFile,index=False)\n",
    "SNPInfo.to_csv(SNPInfoOutputFile,index=False)"
   ]
  },
  {
   "cell_type": "markdown",
   "metadata": {},
   "source": [
    "# GeneInfo Schema:\n",
    "GENE_ID : int ID#\n",
    "\n",
    "NAME : string common name \n",
    "\n",
    "ACC : string NC_000... \n",
    "\n",
    "index : string rs### "
   ]
  },
  {
   "cell_type": "markdown",
   "metadata": {},
   "source": [
    "# SNPInfo Schema\n",
    "\n",
    "ACC : string                                \n",
    "\n",
    "ALLELE: Bool \n",
    "\n",
    "ALLELE_ORIGIN: string : rs###, however most of the time is blank \n",
    "\n",
    "CHR : string chromosome snp found on \n",
    "\n",
    "CHRPOS : string chr:bp\n",
    "\n",
    "CHRPOS_PREV_ASSM : string chr:bp from previous assembly\n",
    "\n",
    "CHRPOS_SORT : string chromosome position but with 000 in front\n",
    "\n",
    "CITED_SORT : string string\n",
    "\n",
    "CLINICAL_SIGNIFICANCE : string\n",
    "\n",
    "CLINICAL_SORT : string \n",
    "\n",
    "CREATEDATE : data record of snp was created\n",
    "\n",
    "DOCSUM : string summary of all columns\n",
    "\n",
    "FXN_CLASS : string comma separate (i.e. 'intron_variant,genic_downstream_transcript_variant')\n",
    "\n",
    "GENES : list of dictionaries of genes (i.e. [{'NAME': 'LRRC8D', 'GENE_ID': '55144'}])\n",
    "\n",
    "GLOBAL_MAFS : list of dictionary (i.e. {'STUDY': '1000Genomes', 'FREQ': 'C=0.049521/.....)\n",
    "\n",
    "GLOBAL_POPULATION : string\n",
    "\n",
    "GLOBAL_SAMPLESIZE : string\n",
    "\n",
    "HANDLE : string reported biobanks with snp? (i.e. 1000GENOMES,EVA_UK10K_TWINSUK,....)\n",
    "\n",
    "IDList : list of uid's generated from first get_idList(snp)\n",
    "\n",
    "MERGED_SORT : string\n",
    "\n",
    "ORIG_BUILD : string\n",
    "\n",
    "SNP_CLASS : string (i.e. 'snv')\n",
    "\n",
    "SNP_ID : string\n",
    "\n",
    "SNP_ID_SORT : string\n",
    "\n",
    "SPDI : string (i.e. 'NC_000005.10:95305173:T:C')\n",
    "\n",
    "SS : string (i.e. '10263196,82343251,82652005,112205736,165508732')\n",
    "\n",
    "SUSPECTED : string\n",
    "\n",
    "TAX_ID : string\n",
    "\n",
    "TEXT : string (i.e. 'MergedRs=6896334')\n",
    "\n",
    "UPDATEDATE : Date\n",
    "\n",
    "UPD_BUILD : string\n",
    "\n",
    "VALIDATED : string (i.e. 'by-frequency,by-alfa,by-cluster')"
   ]
  }
 ],
 "metadata": {
  "kernelspec": {
   "display_name": "Python 3",
   "language": "python",
   "name": "python3"
  },
  "language_info": {
   "codemirror_mode": {
    "name": "ipython",
    "version": 3
   },
   "file_extension": ".py",
   "mimetype": "text/x-python",
   "name": "python",
   "nbconvert_exporter": "python",
   "pygments_lexer": "ipython3",
   "version": "3.6.11"
  }
 },
 "nbformat": 4,
 "nbformat_minor": 4
}
